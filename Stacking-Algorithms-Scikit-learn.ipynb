{
 "cells": [
  {
   "cell_type": "markdown",
   "id": "327045be",
   "metadata": {},
   "source": [
    "# Stacking Algorithms\n",
    "### Combination of two or more estimators to find the best way to combine different machine learning algorithms having different perks on specific problem\n",
    "\n",
    ">The benefit of stacking is that it can harness the capabilities of a range of well-performing models on a classification or regression task and make predictions that have better performance than any single model in the ensemble.\n",
    "\n",
    "**Stacking addresses the question:**\n",
    "\n",
    "* Given multiple machine learning models that are skillful on a problem, but in different ways, how do you choose which model to use (trust)?\n",
    "\n",
    "**The approach to this question is to use another machine learning model that learns when to use or trust each model in the ensemble.**\n",
    "\n",
    "* Unlike bagging, in stacking, `the models are typically different` (e.g. not all decision trees) and fit on the same dataset (e.g. instead of samples of the training dataset).\n",
    "* Unlike boosting, in stacking, `a single model is used to learn how to best combine the predictions from the contributing models` (e.g. instead of a sequence of models that correct the predictions of prior models).\n",
    "\n",
    "The architecture of a stacking model involves two or more base models, often referred to as level-0 models, and a meta-model that combines the predictions of the base models, referred to as a level-1 model.\n",
    "\n",
    "* Level-0 Models (`Base-Models`): Models fit on the training data and whose predictions are compiled.\n",
    "* Level-1 Model (`Meta-Model`): Model that learns how to best combine the predictions of the base models.\n",
    "\n",
    "The meta-model is trained on the predictions made by base models on out-of-sample data. That is, data not used to train the base models is fed to the base models, predictions are made, and these predictions, along with the expected outputs, provide the input and output pairs of the training dataset used to fit the meta-model.\n",
    "\n",
    "The most common approach to preparing the training dataset for the meta-model is via `k-fold cross-validation` of the base models, where the `out-of-fold` predictions are used as the basis for the training dataset for the meta-model.\n",
    "\n",
    "**Base-models are often complex and diverse.**\n",
    "> Base-Models: Use a diverse range of models that make different assumptions about the prediction task.\n",
    "\n",
    "**The meta-model is often simple, providing a smooth interpretation of the predictions made by the base models.**\n",
    "> Regression Meta-Model: Linear Regression.\n",
    "\n",
    "> Classification Meta-Model: Logistic Regression.\n",
    "\n",
    "The `super learner algorithm` is an application of stacked generalization, called stacking or blending, to k-fold cross-validation where all models use the same k-fold splits of the data and a meta-model is fit on the out-of-fold predictions from each model."
   ]
  },
  {
   "cell_type": "markdown",
   "id": "ec32bcb7",
   "metadata": {},
   "source": [
    "## classification - Stacking Ensemble Machine learning with python"
   ]
  },
  {
   "cell_type": "code",
   "execution_count": 1,
   "id": "27b62c01",
   "metadata": {},
   "outputs": [],
   "source": [
    "# Importing modules\n",
    "import pandas as pd\n",
    "import numpy as np \n",
    "import matplotlib.pyplot as plt\n",
    "import seaborn as sns\n",
    "from sklearn.model_selection import train_test_split,cross_val_score\n",
    "from sklearn.model_selection import RepeatedKFold, RepeatedStratifiedKFold\n",
    "from sklearn.linear_model import LogisticRegression\n",
    "from sklearn.neighbors import KNeighborsClassifier\n",
    "from sklearn.tree import DecisionTreeClassifier\n",
    "from sklearn.svm import SVC\n",
    "from sklearn.naive_bayes import GaussianNB\n",
    "from sklearn.ensemble import StackingClassifier, RandomForestClassifier"
   ]
  },
  {
   "cell_type": "code",
   "execution_count": 2,
   "id": "924757ae",
   "metadata": {},
   "outputs": [
    {
     "data": {
      "text/html": [
       "<div>\n",
       "<style scoped>\n",
       "    .dataframe tbody tr th:only-of-type {\n",
       "        vertical-align: middle;\n",
       "    }\n",
       "\n",
       "    .dataframe tbody tr th {\n",
       "        vertical-align: top;\n",
       "    }\n",
       "\n",
       "    .dataframe thead th {\n",
       "        text-align: right;\n",
       "    }\n",
       "</style>\n",
       "<table border=\"1\" class=\"dataframe\">\n",
       "  <thead>\n",
       "    <tr style=\"text-align: right;\">\n",
       "      <th></th>\n",
       "      <th>age</th>\n",
       "      <th>sex</th>\n",
       "      <th>cp</th>\n",
       "      <th>trestbps</th>\n",
       "      <th>chol</th>\n",
       "      <th>fbs</th>\n",
       "      <th>restecg</th>\n",
       "      <th>thalach</th>\n",
       "      <th>exang</th>\n",
       "      <th>oldpeak</th>\n",
       "      <th>slope</th>\n",
       "      <th>ca</th>\n",
       "      <th>thal</th>\n",
       "      <th>target</th>\n",
       "    </tr>\n",
       "  </thead>\n",
       "  <tbody>\n",
       "    <tr>\n",
       "      <th>0</th>\n",
       "      <td>63</td>\n",
       "      <td>1</td>\n",
       "      <td>3</td>\n",
       "      <td>145</td>\n",
       "      <td>233</td>\n",
       "      <td>1</td>\n",
       "      <td>0</td>\n",
       "      <td>150</td>\n",
       "      <td>0</td>\n",
       "      <td>2.3</td>\n",
       "      <td>0</td>\n",
       "      <td>0</td>\n",
       "      <td>1</td>\n",
       "      <td>1</td>\n",
       "    </tr>\n",
       "    <tr>\n",
       "      <th>1</th>\n",
       "      <td>37</td>\n",
       "      <td>1</td>\n",
       "      <td>2</td>\n",
       "      <td>130</td>\n",
       "      <td>250</td>\n",
       "      <td>0</td>\n",
       "      <td>1</td>\n",
       "      <td>187</td>\n",
       "      <td>0</td>\n",
       "      <td>3.5</td>\n",
       "      <td>0</td>\n",
       "      <td>0</td>\n",
       "      <td>2</td>\n",
       "      <td>1</td>\n",
       "    </tr>\n",
       "    <tr>\n",
       "      <th>2</th>\n",
       "      <td>41</td>\n",
       "      <td>0</td>\n",
       "      <td>1</td>\n",
       "      <td>130</td>\n",
       "      <td>204</td>\n",
       "      <td>0</td>\n",
       "      <td>0</td>\n",
       "      <td>172</td>\n",
       "      <td>0</td>\n",
       "      <td>1.4</td>\n",
       "      <td>2</td>\n",
       "      <td>0</td>\n",
       "      <td>2</td>\n",
       "      <td>1</td>\n",
       "    </tr>\n",
       "    <tr>\n",
       "      <th>3</th>\n",
       "      <td>56</td>\n",
       "      <td>1</td>\n",
       "      <td>1</td>\n",
       "      <td>120</td>\n",
       "      <td>236</td>\n",
       "      <td>0</td>\n",
       "      <td>1</td>\n",
       "      <td>178</td>\n",
       "      <td>0</td>\n",
       "      <td>0.8</td>\n",
       "      <td>2</td>\n",
       "      <td>0</td>\n",
       "      <td>2</td>\n",
       "      <td>1</td>\n",
       "    </tr>\n",
       "    <tr>\n",
       "      <th>4</th>\n",
       "      <td>57</td>\n",
       "      <td>0</td>\n",
       "      <td>0</td>\n",
       "      <td>120</td>\n",
       "      <td>354</td>\n",
       "      <td>0</td>\n",
       "      <td>1</td>\n",
       "      <td>163</td>\n",
       "      <td>1</td>\n",
       "      <td>0.6</td>\n",
       "      <td>2</td>\n",
       "      <td>0</td>\n",
       "      <td>2</td>\n",
       "      <td>1</td>\n",
       "    </tr>\n",
       "  </tbody>\n",
       "</table>\n",
       "</div>"
      ],
      "text/plain": [
       "   age  sex  cp  trestbps  chol  fbs  restecg  thalach  exang  oldpeak  slope  \\\n",
       "0   63    1   3       145   233    1        0      150      0      2.3      0   \n",
       "1   37    1   2       130   250    0        1      187      0      3.5      0   \n",
       "2   41    0   1       130   204    0        0      172      0      1.4      2   \n",
       "3   56    1   1       120   236    0        1      178      0      0.8      2   \n",
       "4   57    0   0       120   354    0        1      163      1      0.6      2   \n",
       "\n",
       "   ca  thal  target  \n",
       "0   0     1       1  \n",
       "1   0     2       1  \n",
       "2   0     2       1  \n",
       "3   0     2       1  \n",
       "4   0     2       1  "
      ]
     },
     "execution_count": 2,
     "metadata": {},
     "output_type": "execute_result"
    }
   ],
   "source": [
    "# Importing dataset for classification \n",
    "heart_df = pd.read_csv(\"heart-disease.csv\")\n",
    "heart_df.head()"
   ]
  },
  {
   "cell_type": "code",
   "execution_count": 3,
   "id": "e1f2d1cb",
   "metadata": {},
   "outputs": [
    {
     "name": "stdout",
     "output_type": "stream",
     "text": [
      "<class 'pandas.core.frame.DataFrame'>\n",
      "RangeIndex: 303 entries, 0 to 302\n",
      "Data columns (total 14 columns):\n",
      " #   Column    Non-Null Count  Dtype  \n",
      "---  ------    --------------  -----  \n",
      " 0   age       303 non-null    int64  \n",
      " 1   sex       303 non-null    int64  \n",
      " 2   cp        303 non-null    int64  \n",
      " 3   trestbps  303 non-null    int64  \n",
      " 4   chol      303 non-null    int64  \n",
      " 5   fbs       303 non-null    int64  \n",
      " 6   restecg   303 non-null    int64  \n",
      " 7   thalach   303 non-null    int64  \n",
      " 8   exang     303 non-null    int64  \n",
      " 9   oldpeak   303 non-null    float64\n",
      " 10  slope     303 non-null    int64  \n",
      " 11  ca        303 non-null    int64  \n",
      " 12  thal      303 non-null    int64  \n",
      " 13  target    303 non-null    int64  \n",
      "dtypes: float64(1), int64(13)\n",
      "memory usage: 33.3 KB\n"
     ]
    }
   ],
   "source": [
    "heart_df.info()"
   ]
  },
  {
   "cell_type": "code",
   "execution_count": 4,
   "id": "853ce6f0",
   "metadata": {},
   "outputs": [
    {
     "data": {
      "text/plain": [
       "age         0\n",
       "sex         0\n",
       "cp          0\n",
       "trestbps    0\n",
       "chol        0\n",
       "fbs         0\n",
       "restecg     0\n",
       "thalach     0\n",
       "exang       0\n",
       "oldpeak     0\n",
       "slope       0\n",
       "ca          0\n",
       "thal        0\n",
       "target      0\n",
       "dtype: int64"
      ]
     },
     "execution_count": 4,
     "metadata": {},
     "output_type": "execute_result"
    }
   ],
   "source": [
    "heart_df.isna().sum()"
   ]
  },
  {
   "cell_type": "code",
   "execution_count": 5,
   "id": "6971dc5c",
   "metadata": {},
   "outputs": [],
   "source": [
    "#Using 6 models for prediction and finding perfect fit\n",
    "clf_models = {\"lr\":LogisticRegression(), \n",
    "          \"knn\":KNeighborsClassifier(), \n",
    "          \"cart\":DecisionTreeClassifier(), \n",
    "          \"svc\":SVC(), \n",
    "          \"bayes\":GaussianNB(),\n",
    "          \"randomforest\":RandomForestClassifier()}"
   ]
  },
  {
   "cell_type": "code",
   "execution_count": 39,
   "id": "50805cf0",
   "metadata": {},
   "outputs": [],
   "source": [
    "#Define Evaluation function - Generally for stacking cv is used\n",
    "def evaluate_clf_model(model,X,y): \n",
    "    cv = RepeatedStratifiedKFold(n_splits=10,n_repeats=3,random_state=42)\n",
    "    scores = cross_val_score(model,X,y,scoring='accuracy',cv=cv,n_jobs=-1,error_score='raise')\n",
    "    return scores"
   ]
  },
  {
   "cell_type": "code",
   "execution_count": 9,
   "id": "0017e47f",
   "metadata": {},
   "outputs": [],
   "source": [
    "X,y = heart_df.drop(\"target\",axis=1), heart_df.target\n",
    "results_clf = {}"
   ]
  },
  {
   "cell_type": "code",
   "execution_count": 10,
   "id": "4e4cbcf0",
   "metadata": {},
   "outputs": [
    {
     "data": {
      "text/plain": [
       "{'lr': 0.8446594982078852,\n",
       " 'knn': 0.6568817204301077,\n",
       " 'cart': 0.7808243727598564,\n",
       " 'svc': 0.6523297491039428,\n",
       " 'bayes': 0.8160573476702508,\n",
       " 'randomforest': 0.8337992831541217}"
      ]
     },
     "execution_count": 10,
     "metadata": {},
     "output_type": "execute_result"
    }
   ],
   "source": [
    "for name, model in clf_models.items(): \n",
    "    scores = evaluate_clf_model(model,X,y)\n",
    "    results_clf[name] = np.mean(scores)\n",
    "    \n",
    "results_clf"
   ]
  },
  {
   "cell_type": "markdown",
   "id": "913a62f8",
   "metadata": {},
   "source": [
    "**Logistics Regression performed better than others** Now we try to combine this 6 in one model"
   ]
  },
  {
   "cell_type": "code",
   "execution_count": 15,
   "id": "f3da992e",
   "metadata": {},
   "outputs": [],
   "source": [
    "def get_stacking():\n",
    "    # Define base model\n",
    "    level0 = list()\n",
    "    level0.append(('lr',LogisticRegression()))\n",
    "    level0.append(('knn',KNeighborsClassifier()))\n",
    "    level0.append(('cart',DecisionTreeClassifier()))\n",
    "    level0.append(('svm',SVC()))\n",
    "    level0.append(('bayes',GaussianNB()))\n",
    "    level0.append((\"randomforest\",RandomForestClassifier()))\n",
    "    #Define meta model\n",
    "    level1 = LogisticRegression()\n",
    "    #Define the stacking ensemble\n",
    "    clf = StackingClassifier(estimators=level0,final_estimator=level1,cv=5)\n",
    "    return clf"
   ]
  },
  {
   "cell_type": "code",
   "execution_count": 16,
   "id": "15c32239",
   "metadata": {},
   "outputs": [],
   "source": [
    "#including_stacking\n",
    "clf_models = {\"lr\":LogisticRegression(), \n",
    "          \"knn\":KNeighborsClassifier(), \n",
    "          \"cart\":DecisionTreeClassifier(), \n",
    "          \"svc\":SVC(), \n",
    "          \"bayes\":GaussianNB(),\n",
    "          \"randomforest\":RandomForestClassifier(), \n",
    "          \"stacking\":get_stacking()}"
   ]
  },
  {
   "cell_type": "code",
   "execution_count": 18,
   "id": "dedcaeeb",
   "metadata": {},
   "outputs": [
    {
     "data": {
      "text/plain": [
       "{'lr': 0.8446594982078852,\n",
       " 'knn': 0.6568817204301077,\n",
       " 'cart': 0.776200716845878,\n",
       " 'svc': 0.6523297491039428,\n",
       " 'bayes': 0.8160573476702508,\n",
       " 'randomforest': 0.8258781362007167,\n",
       " 'stacking': 0.8414336917562724}"
      ]
     },
     "execution_count": 18,
     "metadata": {},
     "output_type": "execute_result"
    }
   ],
   "source": [
    "results_clf={}\n",
    "for name, model in clf_models.items(): \n",
    "    scores = evaluate_clf_model(model,X,y)\n",
    "    results_clf[name] = np.mean(scores)\n",
    "    \n",
    "results_clf"
   ]
  },
  {
   "cell_type": "markdown",
   "id": "ef230b86",
   "metadata": {},
   "source": [
    "### Here we can see our model has provided one of the highest scores on our Heart Disease data"
   ]
  },
  {
   "cell_type": "code",
   "execution_count": 29,
   "id": "4d0f4b6e",
   "metadata": {},
   "outputs": [
    {
     "data": {
      "image/png": "[encoded data removed]",
      "text/plain": [
       "<Figure size 1000x1000 with 1 Axes>"
      ]
     },
     "metadata": {},
     "output_type": "display_data"
    }
   ],
   "source": [
    "fig, ax = plt.subplots(figsize=(10,10))\n",
    "bar = ax.bar(list(results_clf.keys()),list(results_clf.values()),color='salmon')\n",
    "ax.set(title=\"Comparision of different models with Stacking\",xlabel=\"Models\",ylabel=\"Scores\");\n",
    "plt.show();"
   ]
  },
  {
   "cell_type": "markdown",
   "id": "d7d2bd7a",
   "metadata": {},
   "source": [
    "# Regression - Stacking Ensemble Machine learning with python"
   ]
  },
  {
   "cell_type": "code",
   "execution_count": 31,
   "id": "1280d123",
   "metadata": {},
   "outputs": [
    {
     "data": {
      "text/html": [
       "<div>\n",
       "<style scoped>\n",
       "    .dataframe tbody tr th:only-of-type {\n",
       "        vertical-align: middle;\n",
       "    }\n",
       "\n",
       "    .dataframe tbody tr th {\n",
       "        vertical-align: top;\n",
       "    }\n",
       "\n",
       "    .dataframe thead th {\n",
       "        text-align: right;\n",
       "    }\n",
       "</style>\n",
       "<table border=\"1\" class=\"dataframe\">\n",
       "  <thead>\n",
       "    <tr style=\"text-align: right;\">\n",
       "      <th></th>\n",
       "      <th>MedInc</th>\n",
       "      <th>HouseAge</th>\n",
       "      <th>AveRooms</th>\n",
       "      <th>AveBedrms</th>\n",
       "      <th>Population</th>\n",
       "      <th>AveOccup</th>\n",
       "      <th>Latitude</th>\n",
       "      <th>Longitude</th>\n",
       "      <th>target</th>\n",
       "    </tr>\n",
       "  </thead>\n",
       "  <tbody>\n",
       "    <tr>\n",
       "      <th>0</th>\n",
       "      <td>8.3252</td>\n",
       "      <td>41.0</td>\n",
       "      <td>6.984127</td>\n",
       "      <td>1.023810</td>\n",
       "      <td>322.0</td>\n",
       "      <td>2.555556</td>\n",
       "      <td>37.88</td>\n",
       "      <td>-122.23</td>\n",
       "      <td>4.526</td>\n",
       "    </tr>\n",
       "    <tr>\n",
       "      <th>1</th>\n",
       "      <td>8.3014</td>\n",
       "      <td>21.0</td>\n",
       "      <td>6.238137</td>\n",
       "      <td>0.971880</td>\n",
       "      <td>2401.0</td>\n",
       "      <td>2.109842</td>\n",
       "      <td>37.86</td>\n",
       "      <td>-122.22</td>\n",
       "      <td>3.585</td>\n",
       "    </tr>\n",
       "    <tr>\n",
       "      <th>2</th>\n",
       "      <td>7.2574</td>\n",
       "      <td>52.0</td>\n",
       "      <td>8.288136</td>\n",
       "      <td>1.073446</td>\n",
       "      <td>496.0</td>\n",
       "      <td>2.802260</td>\n",
       "      <td>37.85</td>\n",
       "      <td>-122.24</td>\n",
       "      <td>3.521</td>\n",
       "    </tr>\n",
       "    <tr>\n",
       "      <th>3</th>\n",
       "      <td>5.6431</td>\n",
       "      <td>52.0</td>\n",
       "      <td>5.817352</td>\n",
       "      <td>1.073059</td>\n",
       "      <td>558.0</td>\n",
       "      <td>2.547945</td>\n",
       "      <td>37.85</td>\n",
       "      <td>-122.25</td>\n",
       "      <td>3.413</td>\n",
       "    </tr>\n",
       "    <tr>\n",
       "      <th>4</th>\n",
       "      <td>3.8462</td>\n",
       "      <td>52.0</td>\n",
       "      <td>6.281853</td>\n",
       "      <td>1.081081</td>\n",
       "      <td>565.0</td>\n",
       "      <td>2.181467</td>\n",
       "      <td>37.85</td>\n",
       "      <td>-122.25</td>\n",
       "      <td>3.422</td>\n",
       "    </tr>\n",
       "  </tbody>\n",
       "</table>\n",
       "</div>"
      ],
      "text/plain": [
       "   MedInc  HouseAge  AveRooms  AveBedrms  Population  AveOccup  Latitude  \\\n",
       "0  8.3252      41.0  6.984127   1.023810       322.0  2.555556     37.88   \n",
       "1  8.3014      21.0  6.238137   0.971880      2401.0  2.109842     37.86   \n",
       "2  7.2574      52.0  8.288136   1.073446       496.0  2.802260     37.85   \n",
       "3  5.6431      52.0  5.817352   1.073059       558.0  2.547945     37.85   \n",
       "4  3.8462      52.0  6.281853   1.081081       565.0  2.181467     37.85   \n",
       "\n",
       "   Longitude  target  \n",
       "0    -122.23   4.526  \n",
       "1    -122.22   3.585  \n",
       "2    -122.24   3.521  \n",
       "3    -122.25   3.413  \n",
       "4    -122.25   3.422  "
      ]
     },
     "execution_count": 31,
     "metadata": {},
     "output_type": "execute_result"
    }
   ],
   "source": [
    "#Importing Regression dataset\n",
    "from sklearn.datasets import fetch_california_housing\n",
    "Housing = fetch_california_housing()\n",
    "California_df = pd.DataFrame(Housing.data,columns = Housing.feature_names)\n",
    "California_df[\"target\"]=Housing.target\n",
    "California_df.head()"
   ]
  },
  {
   "cell_type": "code",
   "execution_count": 32,
   "id": "98de7d4c",
   "metadata": {},
   "outputs": [
    {
     "data": {
      "text/plain": [
       "(20640, 9)"
      ]
     },
     "execution_count": 32,
     "metadata": {},
     "output_type": "execute_result"
    }
   ],
   "source": [
    "California_df.shape"
   ]
  },
  {
   "cell_type": "code",
   "execution_count": 34,
   "id": "55bc26f9",
   "metadata": {},
   "outputs": [],
   "source": [
    "from sklearn.model_selection import KFold\n",
    "from sklearn.linear_model import LinearRegression\n",
    "from sklearn.neighbors import KNeighborsRegressor\n",
    "from sklearn.tree import DecisionTreeRegressor\n",
    "from sklearn.svm import SVR\n",
    "from sklearn.naive_bayes import GaussianNB\n",
    "from sklearn.ensemble import StackingRegressor, RandomForestRegressor"
   ]
  },
  {
   "cell_type": "code",
   "execution_count": 43,
   "id": "d8546765",
   "metadata": {},
   "outputs": [],
   "source": [
    "#Using 5 models for prediction and finding perfect fit\n",
    "reg_models = {\"lr\":LinearRegression(), \n",
    "          \"knn\":KNeighborsRegressor(), \n",
    "          \"cart\":DecisionTreeRegressor(), \n",
    "          \"svr\":SVR(), \n",
    "          \"randomforest\":RandomForestRegressor()}"
   ]
  },
  {
   "cell_type": "code",
   "execution_count": 44,
   "id": "788079f2",
   "metadata": {},
   "outputs": [],
   "source": [
    "#Define Evaluation function - Generally for stacking cv is used\n",
    "def evaluate_reg_model(model,X,y): \n",
    "    cv = KFold(n_splits=10,shuffle=True,random_state=42)\n",
    "    scores = cross_val_score(model,X,y,scoring='neg_mean_absolute_error',cv=cv,n_jobs=-1,error_score='raise')\n",
    "    return scores"
   ]
  },
  {
   "cell_type": "code",
   "execution_count": 45,
   "id": "332a741a",
   "metadata": {},
   "outputs": [],
   "source": [
    "X,y = California_df.drop(\"target\",axis=1),California_df.target\n",
    "results_reg={}"
   ]
  },
  {
   "cell_type": "code",
   "execution_count": 46,
   "id": "4091dadf",
   "metadata": {},
   "outputs": [
    {
     "data": {
      "text/plain": [
       "{'lr': -0.5320305343123044,\n",
       " 'knn': -0.8073556819767443,\n",
       " 'cart': -0.4571343197674419,\n",
       " 'svr': -0.8685442801911254,\n",
       " 'randomforest': -0.3217250686240312}"
      ]
     },
     "execution_count": 46,
     "metadata": {},
     "output_type": "execute_result"
    }
   ],
   "source": [
    "for name,model in reg_models.items(): \n",
    "    scores = evaluate_reg_model(model,X,y)\n",
    "    results_reg[name]=np.mean(scores)\n",
    "results_reg #The higher is better "
   ]
  },
  {
   "cell_type": "code",
   "execution_count": 47,
   "id": "b923383a",
   "metadata": {},
   "outputs": [],
   "source": [
    "def get_stacking_reg():\n",
    "    # Define base model\n",
    "    level0 = list()\n",
    "    level0.append(('lr',LinearRegression()))\n",
    "    level0.append(('knn',KNeighborsRegressor()))\n",
    "    level0.append(('cart',DecisionTreeRegressor()))\n",
    "    level0.append(('svm',SVR()))\n",
    "    level0.append((\"randomforest\",RandomForestRegressor()))\n",
    "    #Define meta model\n",
    "    level1 = LinearRegression()\n",
    "    #Define the stacking ensemble\n",
    "    reg = StackingRegressor(estimators=level0,final_estimator=level1,cv=5)\n",
    "    return reg"
   ]
  },
  {
   "cell_type": "code",
   "execution_count": 48,
   "id": "74a8b668",
   "metadata": {},
   "outputs": [],
   "source": [
    "# including regression stack model \n",
    "reg_models = {\"lr\":LinearRegression(), \n",
    "          \"knn\":KNeighborsRegressor(), \n",
    "          \"cart\":DecisionTreeRegressor(), \n",
    "          \"svr\":SVR(), \n",
    "          \"randomforest\":RandomForestRegressor(), \n",
    "          \"stacking\":get_stacking_reg()}"
   ]
  },
  {
   "cell_type": "code",
   "execution_count": 49,
   "id": "b8020d63",
   "metadata": {},
   "outputs": [
    {
     "name": "stdout",
     "output_type": "stream",
     "text": [
      "Processing lr....\n",
      "Processing knn....\n",
      "Processing cart....\n",
      "Processing svr....\n",
      "Processing randomforest....\n",
      "Processing stacking....\n"
     ]
    },
    {
     "data": {
      "text/plain": [
       "{'lr': -0.5320305343123044,\n",
       " 'knn': -0.8073556819767443,\n",
       " 'cart': -0.45961320542635653,\n",
       " 'svr': -0.8685442801911254,\n",
       " 'randomforest': -0.3235268033430234,\n",
       " 'stacking': -0.3495465249219721}"
      ]
     },
     "execution_count": 49,
     "metadata": {},
     "output_type": "execute_result"
    }
   ],
   "source": [
    "results_reg={}\n",
    "for name, model in reg_models.items(): \n",
    "    scores = evaluate_reg_model(model,X,y)\n",
    "    results_reg[name]=np.mean(scores)\n",
    "    print(f\"Processing {name}....\")\n",
    "results_reg # Take some time to process"
   ]
  },
  {
   "cell_type": "markdown",
   "id": "e963379b",
   "metadata": {},
   "source": [
    "#### Here also stacking has one of the best performance over other model "
   ]
  },
  {
   "cell_type": "code",
   "execution_count": 50,
   "id": "463a3993",
   "metadata": {},
   "outputs": [
    {
     "data": {
      "image/png": "[encoded data removed]",
      "text/plain": [
       "<Figure size 1000x1000 with 1 Axes>"
      ]
     },
     "metadata": {},
     "output_type": "display_data"
    }
   ],
   "source": [
    "fig, ax = plt.subplots(figsize=(10,10))\n",
    "bar = ax.bar(list(results_reg.keys()),list(results_reg.values()),color='salmon')\n",
    "ax.set(title=\"Comparision of different models with Stacking\",xlabel=\"Models\",ylabel=\"Scores\");\n",
    "plt.show();"
   ]
  },
  {
   "cell_type": "code",
   "execution_count": null,
   "id": "7d94e431",
   "metadata": {},
   "outputs": [],
   "source": []
  }
 ],
 "metadata": {
  "kernelspec": {
   "display_name": "Python 3 (ipykernel)",
   "language": "python",
   "name": "python3"
  },
  "language_info": {
   "codemirror_mode": {
    "name": "ipython",
    "version": 3
   },
   "file_extension": ".py",
   "mimetype": "text/x-python",
   "name": "python",
   "nbconvert_exporter": "python",
   "pygments_lexer": "ipython3",
   "version": "3.11.3"
  }
 },
 "nbformat": 4,
 "nbformat_minor": 5
}
